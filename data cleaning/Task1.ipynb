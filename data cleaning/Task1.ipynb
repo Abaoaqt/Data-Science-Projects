{
 "cells": [
  {
   "cell_type": "code",
   "execution_count": 1,
   "metadata": {},
   "outputs": [],
   "source": [
    "import pandas as pd"
   ]
  },
  {
   "cell_type": "code",
   "execution_count": 2,
   "metadata": {},
   "outputs": [
    {
     "name": "stdout",
     "output_type": "stream",
     "text": [
      "('age', ': ', dtype('float64'))\n",
      "('job', ': ', dtype('O'))\n",
      "('marital', ': ', dtype('O'))\n",
      "('education', ': ', dtype('O'))\n",
      "('default', ': ', dtype('O'))\n",
      "('housing', ': ', dtype('O'))\n",
      "('loan', ': ', dtype('O'))\n",
      "('contact', ': ', dtype('O'))\n",
      "('month', ': ', dtype('O'))\n",
      "('day_of_week', ': ', dtype('O'))\n",
      "('duration', ': ', dtype('float64'))\n",
      "('campaign', ': ', dtype('float64'))\n",
      "('pdays', ': ', dtype('O'))\n",
      "('previous', ': ', dtype('O'))\n",
      "('poutcome', ': ', dtype('O'))\n",
      "('emp.var.rate', ': ', dtype('O'))\n",
      "('cons.price.idx', ': ', dtype('float64'))\n",
      "('cons.conf.idx', ': ', dtype('float64'))\n",
      "('euribor3m', ': ', dtype('O'))\n",
      "('nr.employed', ': ', dtype('O'))\n",
      "('y', ': ', dtype('O'))\n"
     ]
    }
   ],
   "source": [
    "file = 'Bank.csv'\n",
    "bank = pd.read_csv(file, delimiter=';', decimal = '.')\n",
    "\n",
    "for cols in bank.columns:\n",
    "    print(cols, ': ', bank[cols].dtype)"
   ]
  },
  {
   "cell_type": "code",
   "execution_count": 3,
   "metadata": {},
   "outputs": [],
   "source": [
    "#Fixing the inputting error in obs 650\n",
    "length = len(bank.columns)\n",
    "mask_div = bank['marital'] == 'divorceded”;”basic.9y'\n",
    "\n",
    "for col in reversed(range(3,length)):\n",
    "    bank.loc[mask_div, bank.columns[col]] = bank.loc[mask_div, bank.columns[col-1]]\n",
    "\n",
    "bank.loc[mask_div, 'marital'] = 'divorced'\n",
    "bank.loc[mask_div, 'education'] = 'basic.9y'"
   ]
  },
  {
   "cell_type": "code",
   "execution_count": 4,
   "metadata": {},
   "outputs": [],
   "source": [
    "#Fixing all errors in obs 574\n",
    "mask_yess = bank['default'] =='yess”;”yes'\n",
    "for col in reversed(range(7,length)):\n",
    "    bank.loc[mask_yess, bank.columns[col]] = bank.loc[mask_yess, bank.columns[col-2]]\n",
    "    \n",
    "bank.loc[mask_yess,'education'] = 'basic.6y'\n",
    "bank.loc[mask_yess,'default'] = 'no'\n",
    "bank.loc[mask_yess,'housing'] = 'yes'\n",
    "bank.loc[mask_yess,'loan']  ='yes'"
   ]
  },
  {
   "cell_type": "code",
   "execution_count": 5,
   "metadata": {},
   "outputs": [],
   "source": [
    "#fixing the error in obs 569\n",
    "bank['default'].value_counts()\n",
    "mask_def = bank['default'] == 'noo”;”yes'\n",
    "bank.loc[mask_def]\n",
    "for col in reversed(range(5,length)):\n",
    "    bank.loc[mask_def, bank.columns[col]] =  bank.loc[mask_def, bank.columns[col-1]]\n",
    "bank.loc[mask_def, 'default'] = 'no'\n",
    "bank.loc[mask_def, 'housing'] = 'yes'"
   ]
  },
  {
   "cell_type": "code",
   "execution_count": 6,
   "metadata": {},
   "outputs": [],
   "source": [
    "#fixing all errors and replacing 'duration' for obs 678\n",
    "bank[bank.columns[9]].value_counts()\n",
    "mask_day = bank['day_of_week'] == 'thu”;-;1;999;0;nonexistent\"'\n",
    "for col in reversed(range(15,length)):\n",
    "    bank.loc[mask_day, bank.columns[col]] = bank.loc[mask_day, bank.columns[col-5]]\n",
    "bank.loc[mask_day, 'day_of_week'] = 'thu'\n",
    "bank.loc[mask_day, 'duration'] = 0.0 # the original input was '-' which has been chosen to be interpreted as 0\n",
    "bank.loc[mask_day, 'campaign'] = 1.0\n",
    "bank.loc[mask_day, 'pdays'] = 999.0\n",
    "bank.loc[mask_day, 'previous'] = 0.0\n",
    "bank.loc[mask_day, 'poutcome'] = 'nonexistent'"
   ]
  },
  {
   "cell_type": "code",
   "execution_count": 7,
   "metadata": {},
   "outputs": [
    {
     "name": "stdout",
     "output_type": "stream",
     "text": [
      "('age', ': ', dtype('float64'))\n",
      "('job', ': ', dtype('O'))\n",
      "('marital', ': ', dtype('O'))\n",
      "('education', ': ', dtype('O'))\n",
      "('default', ': ', dtype('O'))\n",
      "('housing', ': ', dtype('O'))\n",
      "('loan', ': ', dtype('O'))\n",
      "('contact', ': ', dtype('O'))\n",
      "('month', ': ', dtype('O'))\n",
      "('day_of_week', ': ', dtype('O'))\n",
      "('duration', ': ', dtype('float64'))\n",
      "('campaign', ': ', dtype('float64'))\n",
      "('pdays', ': ', dtype('float64'))\n",
      "('previous', ': ', dtype('float64'))\n",
      "('poutcome', ': ', dtype('O'))\n",
      "('emp.var.rate', ': ', dtype('float64'))\n",
      "('cons.price.idx', ': ', dtype('float64'))\n",
      "('cons.conf.idx', ': ', dtype('float64'))\n",
      "('euribor3m', ': ', dtype('float64'))\n",
      "('nr.employed', ': ', dtype('float64'))\n",
      "('y', ': ', dtype('O'))\n"
     ]
    }
   ],
   "source": [
    "#ensuring all numeric values are numeric\n",
    "bank['age'] = pd.to_numeric(bank['age'])\n",
    "bank['duration'] = pd.to_numeric(bank['duration'])\n",
    "bank['campaign'] = pd.to_numeric(bank['campaign'])\n",
    "bank['pdays'] = pd.to_numeric(bank['pdays'])\n",
    "bank['previous'] = pd.to_numeric(bank['previous'])\n",
    "bank['emp.var.rate'] = pd.to_numeric(bank['emp.var.rate'])\n",
    "bank['cons.price.idx'] = pd.to_numeric(bank['cons.price.idx'])\n",
    "bank['cons.conf.idx'] = pd.to_numeric(bank['cons.conf.idx'])\n",
    "bank['euribor3m'] = pd.to_numeric(bank['euribor3m'])\n",
    "bank['nr.employed'] = pd.to_numeric(bank['nr.employed'])\n",
    "\n",
    "#ensuring data consistency\n",
    "for cols in bank.columns:\n",
    "    print(cols,\": \", bank[cols].dtype)"
   ]
  },
  {
   "cell_type": "code",
   "execution_count": 8,
   "metadata": {},
   "outputs": [],
   "source": [
    "#removing any whitespaces and transforming to lowercase\n",
    "for col in bank.columns:\n",
    "    if bank[col].dtype == object:\n",
    "        for obs in bank[col]:\n",
    "            obs = obs.lower().strip()"
   ]
  },
  {
   "cell_type": "code",
   "execution_count": 9,
   "metadata": {},
   "outputs": [
    {
     "name": "stdout",
     "output_type": "stream",
     "text": [
      "age                True\n",
      "job               False\n",
      "marital           False\n",
      "education         False\n",
      "default           False\n",
      "housing           False\n",
      "loan              False\n",
      "contact           False\n",
      "month             False\n",
      "day_of_week       False\n",
      "duration          False\n",
      "campaign          False\n",
      "pdays             False\n",
      "previous          False\n",
      "poutcome          False\n",
      "emp.var.rate      False\n",
      "cons.price.idx     True\n",
      "cons.conf.idx     False\n",
      "euribor3m          True\n",
      "nr.employed        True\n",
      "y                 False\n",
      "dtype: bool\n"
     ]
    }
   ],
   "source": [
    "#handling missing values\n",
    "print(bank.isnull().any())\n",
    "\n",
    "for cols in bank.columns:\n",
    "    mask_null = bank[cols].isnull() == True\n",
    "    if bank[cols].isnull().any() == True:\n",
    "        bank[cols].fillna(bank[cols].mean(), inplace = True)"
   ]
  },
  {
   "cell_type": "code",
   "execution_count": 10,
   "metadata": {},
   "outputs": [],
   "source": [
    "#filtering out impossible age values\n",
    "bank = bank[bank.age<120]\n",
    "bank = bank[bank.age>0]"
   ]
  },
  {
   "cell_type": "code",
   "execution_count": 11,
   "metadata": {},
   "outputs": [
    {
     "name": "stdout",
     "output_type": "stream",
     "text": [
      "('job', array(['blue-collar', 'services', 'admin.', 'entrepreneur',\n",
      "       'self-employed', 'technician', 'management', 'student', 'retired',\n",
      "       'housemaid', 'unemployed', 'unknown'], dtype=object))\n",
      "('marital', array(['married', 'single', 'divorced', 'unknown'], dtype=object))\n",
      "('education', array(['basic.9y', 'high.school', 'university.degree',\n",
      "       'professional.course', 'basic.6y', 'basic.4y', 'unknown',\n",
      "       'illiterate'], dtype=object))\n",
      "('default', array(['no', 'unknown', 'yes'], dtype=object))\n",
      "('housing', array(['yes', 'no', 'unknown'], dtype=object))\n",
      "('loan', array(['no', 'unknown', 'yes'], dtype=object))\n",
      "('contact', array(['cellular', 'telephone'], dtype=object))\n",
      "('month', array(['may', 'jun', 'nov', 'sep', 'jul', 'aug', 'mar', 'oct', 'apr',\n",
      "       'dec'], dtype=object))\n",
      "('day_of_week', array(['fri', 'wed', 'mon', 'thu', 'tue'], dtype=object))\n",
      "('poutcome', array(['nonexistent', 'failure', 'success'], dtype=object))\n",
      "('y', array(['no', 'yes'], dtype=object))\n"
     ]
    }
   ],
   "source": [
    "#check that all the categorical features have legitmate entries:\n",
    "for cols in bank.columns:\n",
    "    if bank[cols].dtype == object:\n",
    "        print(cols, bank[cols].unique())"
   ]
  },
  {
   "cell_type": "code",
   "execution_count": 12,
   "metadata": {},
   "outputs": [
    {
     "name": "stdout",
     "output_type": "stream",
     "text": [
      "Series([], Name: duration, dtype: float64)\n",
      "Series([], Name: duration, dtype: float64)\n",
      "Series([], Name: campaign, dtype: float64)\n",
      "Series([], Name: campaign, dtype: float64)\n",
      "Series([], Name: pdays, dtype: float64)\n",
      "Series([], Name: pdays, dtype: float64)\n",
      "Series([], Name: previous, dtype: float64)\n",
      "Series([], Name: previous, dtype: float64)\n"
     ]
    }
   ],
   "source": [
    "#check that features 11-14 contain non-negative integers\n",
    "for i in range(10,14):\n",
    "    mask_a = bank[bank.columns[i]] < 0\n",
    "    mask_b = bank[bank.columns[i]] % 1 != 0\n",
    "    print(bank.loc[mask_a,bank.columns[i]])\n",
    "    print(bank.loc[mask_b,bank.columns[i]])"
   ]
  },
  {
   "cell_type": "code",
   "execution_count": 13,
   "metadata": {},
   "outputs": [
    {
     "name": "stdout",
     "output_type": "stream",
     "text": [
      "count    4117.000000\n",
      "mean        0.085111\n",
      "std         1.563084\n",
      "min        -3.400000\n",
      "25%        -1.800000\n",
      "50%         1.100000\n",
      "75%         1.400000\n",
      "max         1.400000\n",
      "Name: emp.var.rate, dtype: float64\n",
      "count    4117.000000\n",
      "mean       93.579620\n",
      "std         0.579291\n",
      "min        92.201000\n",
      "25%        93.075000\n",
      "50%        93.749000\n",
      "75%        93.994000\n",
      "max        94.767000\n",
      "Name: cons.price.idx, dtype: float64\n",
      "count    4117.000000\n",
      "mean      -40.498786\n",
      "std         4.594323\n",
      "min       -50.800000\n",
      "25%       -42.700000\n",
      "50%       -41.800000\n",
      "75%       -36.400000\n",
      "max       -26.900000\n",
      "Name: cons.conf.idx, dtype: float64\n",
      "count    4117.000000\n",
      "mean        3.622016\n",
      "std         1.733125\n",
      "min         0.635000\n",
      "25%         1.334000\n",
      "50%         4.857000\n",
      "75%         4.961000\n",
      "max         5.045000\n",
      "Name: euribor3m, dtype: float64\n",
      "count    4117.000000\n",
      "mean     5166.537812\n",
      "std        73.623481\n",
      "min      4963.600000\n",
      "25%      5099.100000\n",
      "50%      5191.000000\n",
      "75%      5228.100000\n",
      "max      5228.100000\n",
      "Name: nr.employed, dtype: float64\n"
     ]
    }
   ],
   "source": [
    "#check the statistics of features 15-19\n",
    "for i in range(15,20):\n",
    "    print(bank[bank.columns[i]].describe())"
   ]
  },
  {
   "cell_type": "code",
   "execution_count": 14,
   "metadata": {},
   "outputs": [],
   "source": [
    "#saving the modifications as a new csv file\n",
    "bank.to_csv(\"bank2.csv\")"
   ]
  }
 ],
 "metadata": {
  "kernelspec": {
   "display_name": "Python 2",
   "language": "python",
   "name": "python2"
  },
  "language_info": {
   "codemirror_mode": {
    "name": "ipython",
    "version": 2
   },
   "file_extension": ".py",
   "mimetype": "text/x-python",
   "name": "python",
   "nbconvert_exporter": "python",
   "pygments_lexer": "ipython2",
   "version": "2.7.14"
  }
 },
 "nbformat": 4,
 "nbformat_minor": 2
}
